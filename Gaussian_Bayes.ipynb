{
 "cells": [
  {
   "cell_type": "code",
   "execution_count": 20,
   "metadata": {},
   "outputs": [
    {
     "data": {
      "text/plain": [
       "StandardScaler(copy=True, with_mean=True, with_std=True)"
      ]
     },
     "execution_count": 20,
     "metadata": {},
     "output_type": "execute_result"
    }
   ],
   "source": [
    "import numpy as np\n",
    "import matplotlib.pyplot as plt\n",
    "import mltools as ml\n",
    "\n",
    "from sklearn.model_selection import train_test_split\n",
    "from sklearn.neural_network import MLPClassifier\n",
    "from sklearn.preprocessing import StandardScaler\n",
    "from sklearn.metrics import classification_report,confusion_matrix,roc_auc_score\n",
    "from sklearn.linear_model import LogisticRegression\n",
    "from sklearn.feature_selection import RFE\n",
    "from sklearn.ensemble import RandomForestClassifier\n",
    "\n",
    "from sklearn.naive_bayes import GaussianNB\n",
    "from sklearn.externals import joblib\n",
    "from sklearn.preprocessing import StandardScaler\n",
    "\n",
    "np.random.seed(0)\n",
    "\n",
    "X = np.genfromtxt(\"data/X_train.txt\", delimiter = None)\n",
    "Y = np.genfromtxt(\"data/Y_train.txt\", delimiter = None)\n",
    "\n",
    "X_train, X_val, Y_train, Y_val = ml.splitData(X, Y, .75)\n",
    "X_test = np.genfromtxt(\"data/X_test.txt\", delimiter = None)\n",
    "\n",
    "sc1 = StandardScaler()\n",
    "sc1.fit(X_train)"
   ]
  },
  {
   "cell_type": "code",
   "execution_count": 24,
   "metadata": {},
   "outputs": [],
   "source": [
    "#learner_bayes = ml.bayes.gaussClassify()\n",
    "#learner_bayes.train(X_train, Y_train)\n",
    "#print(\"train: err = {}, auc = {}\".format(learner_bayes.err(X_train, Y_train), learner_bayes.auc(X_train, Y_train)))\n",
    "#print(\"val  : err = {}, auc = {}\".format(learner_bayes.err(X_val, Y_val), learner_bayes.auc(X_val, Y_val)))\n",
    "\n",
    "alpha = np.zeros(shape = (X_train.shape[1], 1))\n",
    "weights = np.ones(shape=(X_train.shape[0],))\n",
    "\n",
    "for i in range(0,X_train.shape[1]):\n",
    "    model = GaussianNB()\n",
    "    model.fit(X_train[:,i].reshape(-1,1),Y_train,np.atleast_1d(weights))\n",
    "    joblib.dump(model,'data/nb_model_'+str(i)+'.txt')\n",
    "    predictions = model.predict(X_train[:,i].reshape(-1,1))\n",
    "    error = np.dot(weights,Y_train!=predictions)\n",
    "    alpha[i] = 0.5*np.log(np.absolute((1-error)/error))\n",
    "    weights *= np.exp(-alpha[i]*Y_train*predictions)\n",
    "    weights /= weights.sum()"
   ]
  },
  {
   "cell_type": "code",
   "execution_count": 21,
   "metadata": {},
   "outputs": [],
   "source": [
    "test_data = np.genfromtxt(\"data/X_test.txt\",delimiter = None)\n",
    "test_data = sc1.transform(test_data)\n",
    "#test_data = np.genfromtxt('data/transformed_test.txt',delimiter = None)\n",
    "test_predictions = np.zeros(shape=(test_data.shape[0],test_data.shape[1]))\n",
    "for i in range(0,14):\n",
    "    model = joblib.load('data/nb_model_'+str(i)+'.txt')\n",
    "    test_predictions[:,i] = model.predict_proba(test_data[:,i].reshape(-1,1))[:,1]\n",
    "\n",
    "final_test_predictions = np.dot(test_predictions,alpha)\n",
    "final_test_predictions /= sum(alpha)"
   ]
  },
  {
   "cell_type": "code",
   "execution_count": 25,
   "metadata": {
    "collapsed": true
   },
   "outputs": [],
   "source": [
    "#test_data = np.genfromtxt(\"data/X_test.txt\",delimiter = None)\n",
    "#test_data = sc1.transform(test_data)\n",
    "#test_data = np.genfromtxt('data/transformed_test.txt',delimiter = None)\n",
    "#test_predictions = np.zeros(shape=(test_data.shape[0],test_data.shape[1]))\n",
    "\n",
    "val_predictions = np.zeros(shape=(X_val.shape[0], X_val.shape[1]))\n",
    "for i in range(0,14):\n",
    "    model = joblib.load('data/nb_model_'+str(i)+'.txt')\n",
    "    val_predictions[:,i] = model.predict_proba(X_val[:,i].reshape(-1,1))[:,1]\n",
    "\n",
    "final_val_predictions = np.dot(val_predictions,alpha)\n",
    "final_val_predictions /= sum(alpha)"
   ]
  },
  {
   "cell_type": "code",
   "execution_count": 26,
   "metadata": {},
   "outputs": [
    {
     "data": {
      "text/plain": [
       "0.59154635079642992"
      ]
     },
     "execution_count": 26,
     "metadata": {},
     "output_type": "execute_result"
    }
   ],
   "source": [
    "roc_auc_score(Y_val, final_val_predictions)"
   ]
  }
 ],
 "metadata": {
  "kernelspec": {
   "display_name": "Python 3",
   "language": "python",
   "name": "python3"
  },
  "language_info": {
   "codemirror_mode": {
    "name": "ipython",
    "version": 3
   },
   "file_extension": ".py",
   "mimetype": "text/x-python",
   "name": "python",
   "nbconvert_exporter": "python",
   "pygments_lexer": "ipython3",
   "version": "3.6.2"
  }
 },
 "nbformat": 4,
 "nbformat_minor": 2
}

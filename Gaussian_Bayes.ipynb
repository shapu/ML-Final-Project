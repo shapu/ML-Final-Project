{
 "cells": [
  {
   "cell_type": "code",
   "execution_count": 8,
   "metadata": {},
   "outputs": [],
   "source": [
    "import numpy as np\n",
    "import matplotlib.pyplot as plt\n",
    "import mltools as ml\n",
    "\n",
    "from sklearn.model_selection import train_test_split\n",
    "from sklearn.neural_network import MLPClassifier\n",
    "from sklearn.preprocessing import StandardScaler\n",
    "from sklearn.metrics import classification_report,confusion_matrix,roc_auc_score\n",
    "from sklearn.linear_model import LogisticRegression\n",
    "from sklearn.feature_selection import RFE\n",
    "from sklearn.ensemble import RandomForestClassifier\n",
    "\n",
    "from sklearn.naive_bayes import GaussianNB\n",
    "from sklearn.externals import joblib\n",
    "from sklearn.preprocessing import StandardScaler\n",
    "\n",
    "from sklearn.decomposition import PCA\n",
    "\n",
    "from imblearn.combine import SMOTETomek\n",
    "\n",
    "np.random.seed(0)\n",
    "\n",
    "#X = np.genfromtxt(\"data/X_train.txt\", delimiter = None)\n",
    "#Y = np.genfromtxt(\"data/Y_train.txt\", delimiter = None)\n",
    "#\n",
    "#X_train, X_val, Y_train, Y_val = ml.splitData(X, Y, .75)\n",
    "#X_test = np.genfromtxt(\"data/X_test.txt\", delimiter = None)\n",
    "\n",
    "X_train_pca = np.loadtxt(\"reduced_data/Training/reduced_train_pca.txt\")\n",
    "X_train_svd = np.loadtxt(\"reduced_data/Training/reduced_train_svd.txt\")\n",
    "Y_train = np.loadtxt(\"reduced_data/Training/train_Y.txt\")\n",
    "X_val_pca = np.loadtxt(\"reduced_data/Validation/reduced_validation_pca.txt\")\n",
    "X_val_svd = np.loadtxt(\"reduced_data/Validation/reduced_validation_svd.txt\")\n",
    "Y_val = np.loadtxt(\"reduced_data/Validation/validation_Y.txt\")\n",
    "\n",
    "#smotetomek = SMOTETomek(random_state = 0)\n",
    "#\n",
    "#sc1 = StandardScaler()\n",
    "#sc1.fit(X_train)\n",
    "#\n",
    "#X_train = sc1.transform(X_train)\n",
    "#X_train, Y_train = smotetomek.fit_sample(X_train, Y_train)\n",
    "#X_val = sc1.transform(X_val)"
   ]
  },
  {
   "cell_type": "code",
   "execution_count": 9,
   "metadata": {
    "collapsed": true
   },
   "outputs": [],
   "source": [
    "model_pca = GaussianNB()\n",
    "model_pca.fit(X_train_pca, Y_train)\n",
    "\n",
    "model_svd = GaussianNB()\n",
    "model_svd.fit(X_train_svd, Y_train)\n",
    "\n",
    "test_data_pca = np.loadtxt(\"reduced_data/Test/reduced_test_pca.txt\")\n",
    "test_data_svd = np.loadtxt(\"reduced_data/Test/reduced_test_svd.txt\")"
   ]
  },
  {
   "cell_type": "code",
   "execution_count": 11,
   "metadata": {
    "collapsed": true
   },
   "outputs": [],
   "source": [
    "from sklearn.decomposition import PCA\n",
    "\n",
    "transformed_train_X = np.loadtxt(\"reduced_data/Training/transformed_train.txt\")\n",
    "transformed_test_X  = np.loadtxt(\"reduced_data/Test/transformed_test.txt\")\n",
    "transformed_val_X   = np.loadtxt(\"reduced_data/Validation/transformed_validation.txt\")"
   ]
  },
  {
   "cell_type": "code",
   "execution_count": 13,
   "metadata": {},
   "outputs": [],
   "source": [
    "pca = PCA(n_components = 2)\n",
    "pca.fit(transformed_train_X)\n",
    "my_reduced_train_X = pca.transform(transformed_train_X)\n",
    "my_reduced_test_X  = pca.transform(transformed_test_X)\n",
    "\n",
    "test_model = GaussianNB()\n",
    "test_model.fit(my_reduced_train_X, Y_train)\n",
    "\n",
    "Yte = np.vstack((np.arange(test_data.shape[0]), test_model.predict_log_proba(my_reduced_test_X)[:,1])).T\n",
    "np.savetxt('data/Y_submit_new.txt', Yte, '%d, %.2f', header='ID,Prob1', comments='', delimiter=',')"
   ]
  },
  {
   "cell_type": "code",
   "execution_count": 7,
   "metadata": {},
   "outputs": [],
   "source": [
    "#learner_bayes = ml.bayes.gaussClassify()\n",
    "#learner_bayes.train(X_train, Y_train)\n",
    "#print(\"train: err = {}, auc = {}\".format(learner_bayes.err(X_train, Y_train), learner_bayes.auc(X_train, Y_train)))\n",
    "#print(\"val  : err = {}, auc = {}\".format(learner_bayes.err(X_val, Y_val), learner_bayes.auc(X_val, Y_val)))\n",
    "\n",
    "Yte = np.vstack((np.arange(test_data.shape[0]), model.predict_log_proba(test_data)[:,1])).T\n",
    "np.savetxt('data/Y_submit_new.txt', Yte, '%d, %.2f', header='ID,Prob1', comments='', delimiter=',')"
   ]
  },
  {
   "cell_type": "code",
   "execution_count": 2,
   "metadata": {
    "collapsed": true
   },
   "outputs": [],
   "source": [
    "#alpha = np.zeros(shape = (X_train.shape[1], 1))\n",
    "#weights = np.ones(shape=(X_train.shape[0],))\n",
    "#\n",
    "#for i in range(0,X_train.shape[1]):\n",
    "#    model = GaussianNB()\n",
    "#    model.fit(X_train[:,i].reshape(-1,1),Y_train,np.atleast_1d(weights))\n",
    "#    joblib.dump(model,'data/nb_model_'+str(i)+'.txt')\n",
    "#    predictions = model.predict(X_train[:,i].reshape(-1,1))\n",
    "#    error = np.dot(weights,Y_train!=predictions)\n",
    "#    alpha[i] = 0.5*np.log(np.absolute((1-error)/error))\n",
    "#    weights *= np.exp(-alpha[i]*Y_train*predictions)\n",
    "#    weights /= weights.sum()"
   ]
  },
  {
   "cell_type": "code",
   "execution_count": 3,
   "metadata": {
    "collapsed": true
   },
   "outputs": [],
   "source": [
    "#test_data = np.genfromtxt(\"data/X_test.txt\",delimiter = None)\n",
    "#test_data = sc1.transform(test_data)\n",
    "##test_data = np.genfromtxt('data/transformed_test.txt',delimiter = None)\n",
    "#test_predictions = np.zeros(shape=(test_data.shape[0],test_data.shape[1]))\n",
    "#for i in range(0,14):\n",
    "#    model = joblib.load('data/nb_model_'+str(i)+'.txt')\n",
    "#    test_predictions[:,i] = model.predict_proba(test_data[:,i].reshape(-1,1))[:,1]\n",
    "#\n",
    "#final_test_predictions = np.dot(test_predictions,alpha)\n",
    "#final_test_predictions /= sum(alpha)"
   ]
  },
  {
   "cell_type": "code",
   "execution_count": 4,
   "metadata": {
    "collapsed": true
   },
   "outputs": [],
   "source": [
    "#test_data = np.genfromtxt(\"data/X_test.txt\",delimiter = None)\n",
    "#test_data = sc1.transform(test_data)\n",
    "#test_data = np.genfromtxt('data/transformed_test.txt',delimiter = None)\n",
    "#test_predictions = np.zeros(shape=(test_data.shape[0],test_data.shape[1]))\n",
    "\n",
    "#val_predictions = np.zeros(shape=(X_val.shape[0], X_val.shape[1]))\n",
    "#for i in range(0,14):\n",
    "#    model = joblib.load('data/nb_model_'+str(i)+'.txt')\n",
    "#    val_predictions[:,i] = model.predict_proba(X_val[:,i].reshape(-1,1))[:,1]\n",
    "#\n",
    "#final_val_predictions = np.dot(val_predictions,alpha)\n",
    "#final_val_predictions /= sum(alpha)"
   ]
  },
  {
   "cell_type": "code",
   "execution_count": 5,
   "metadata": {},
   "outputs": [
    {
     "data": {
      "text/plain": [
       "0.59428244925131024"
      ]
     },
     "execution_count": 5,
     "metadata": {},
     "output_type": "execute_result"
    }
   ],
   "source": [
    "#roc_auc_score(Y_val, final_val_predictions)"
   ]
  },
  {
   "cell_type": "code",
   "execution_count": 10,
   "metadata": {
    "collapsed": true
   },
   "outputs": [],
   "source": [
    "#Yte = np.vstack((np.arange(test_data.shape[0]), final_test_predictions.T)).T\n",
    "#np.savetxt('data/Y_submit_new.txt', Yte, '%d, %.2f', header='ID,Prob1', comments='', delimiter=',')"
   ]
  }
 ],
 "metadata": {
  "kernelspec": {
   "display_name": "Python 3",
   "language": "python",
   "name": "python3"
  },
  "language_info": {
   "codemirror_mode": {
    "name": "ipython",
    "version": 3
   },
   "file_extension": ".py",
   "mimetype": "text/x-python",
   "name": "python",
   "nbconvert_exporter": "python",
   "pygments_lexer": "ipython3",
   "version": "3.6.2"
  }
 },
 "nbformat": 4,
 "nbformat_minor": 2
}

{
 "cells": [
  {
   "cell_type": "code",
   "execution_count": 1,
   "metadata": {
    "collapsed": true
   },
   "outputs": [],
   "source": [
    "import numpy as np\n",
    "import matplotlib.pyplot as plt\n",
    "import mltools as ml\n",
    "\n",
    "from sklearn.model_selection import train_test_split\n",
    "from sklearn.neural_network import MLPClassifier\n",
    "from sklearn.preprocessing import StandardScaler\n",
    "from sklearn.metrics import classification_report,confusion_matrix,roc_auc_score\n",
    "from sklearn.linear_model import LogisticRegression\n",
    "from sklearn.feature_selection import RFE\n",
    "from sklearn.ensemble import RandomForestClassifier\n",
    "\n",
    "from sklearn.naive_bayes import GaussianNB\n",
    "from sklearn.externals import joblib\n",
    "from sklearn.preprocessing import StandardScaler\n",
    "\n",
    "from sklearn.decomposition import PCA\n",
    "\n",
    "from imblearn.combine import SMOTETomek\n",
    "\n",
    "np.random.seed(0)\n",
    "\n",
    "X = np.genfromtxt(\"data/X_train.txt\", delimiter = None)\n",
    "Y = np.genfromtxt(\"data/Y_train.txt\", delimiter = None)\n",
    "\n",
    "X_train, X_val, Y_train, Y_val = ml.splitData(X, Y, .75)\n",
    "X_test = np.genfromtxt(\"data/X_test.txt\", delimiter = None)"
   ]
  },
  {
   "cell_type": "code",
   "execution_count": 2,
   "metadata": {
    "collapsed": true
   },
   "outputs": [],
   "source": [
    "#X_train_ipca = np.genfromtxt(\"reduced_data/Training/training_data_IPCA.txt\")\n",
    "#X_val_ipca = np.genfromtxt(\"reduced_data/Validation/validation_data_IPCA.txt\")\n",
    "#X_test_ipca = np.genfromtxt(\"reduced_data/Test/test_data_IPCA.txt\")\n",
    "\n",
    "X_train_svd = np.genfromtxt(\"reduced_data/Training/transformed_train_svd.txt\")\n",
    "X_val_svd = np.genfromtxt(\"reduced_data/Validation/transformed_validation_svd.txt\")\n",
    "X_test_svd = np.genfromtxt(\"reduced_data/Test/transformed_test_svd.txt\")\n",
    "\n",
    "\n",
    "Y_train_svd = np.genfromtxt(\"reduced_data/Training/train_Y.txt\")\n",
    "Y_val_svd = np.genfromtxt(\"reduced_data/Validation/validation_Y.txt\")"
   ]
  },
  {
   "cell_type": "code",
   "execution_count": 3,
   "metadata": {
    "collapsed": true
   },
   "outputs": [],
   "source": [
    "class BaggedTree(ml.base.classifier):\n",
    "    def __init__(self, learners):\n",
    "        \"\"\"Constructs a BaggedTree class with a set of learners. \"\"\"\n",
    "        self.learners = learners\n",
    "    \n",
    "    def predictSoft(self, X):\n",
    "        \"\"\"Predicts the probabilities with each bagged learner and average over the results. \"\"\"\n",
    "        n_bags = len(self.learners)\n",
    "        preds = [self.learners[l].predictSoft(X) for l in range(n_bags)]\n",
    "        return np.mean(preds, axis=0)"
   ]
  },
  {
   "cell_type": "code",
   "execution_count": 8,
   "metadata": {},
   "outputs": [
    {
     "name": "stdout",
     "output_type": "stream",
     "text": [
      "mp = 2, md = 0\n",
      "val   auc = 0.5\n",
      "mp = 2, md = 5\n",
      "val   auc = 0.6770598819553819\n",
      "mp = 2, md = 10\n",
      "val   auc = 0.7140122523170583\n",
      "mp = 2, md = 15\n",
      "val   auc = 0.7581119775544675\n",
      "mp = 2, md = 20\n",
      "val   auc = 0.7869464097274356\n",
      "mp = 2, md = 25\n",
      "val   auc = 0.7987130548273701\n",
      "mp = 2, md = 30\n",
      "val   auc = 0.7982678588467652\n",
      "mp = 4, md = 0\n",
      "val   auc = 0.5\n",
      "mp = 4, md = 5\n",
      "val   auc = 0.6762841820781329\n",
      "mp = 4, md = 10\n",
      "val   auc = 0.714439302578227\n",
      "mp = 4, md = 15\n",
      "val   auc = 0.7595360691038869\n",
      "mp = 4, md = 20\n",
      "val   auc = 0.7873214182860556\n",
      "mp = 4, md = 25\n",
      "val   auc = 0.7982449985197203\n",
      "mp = 4, md = 30\n",
      "val   auc = 0.7987298368173326\n",
      "mp = 8, md = 0\n",
      "val   auc = 0.5\n",
      "mp = 8, md = 5\n",
      "val   auc = 0.6770726295789851\n",
      "mp = 8, md = 10\n",
      "val   auc = 0.7145430418039808\n",
      "mp = 8, md = 15\n",
      "val   auc = 0.7616875950598588\n",
      "mp = 8, md = 20\n",
      "val   auc = 0.7891099941365802\n",
      "mp = 8, md = 25\n",
      "val   auc = 0.7967648252191868\n",
      "mp = 8, md = 30\n",
      "val   auc = 0.7978575426826788\n",
      "mp = 16, md = 0\n",
      "val   auc = 0.5\n",
      "mp = 16, md = 5\n",
      "val   auc = 0.6771127475778208\n",
      "mp = 16, md = 10\n",
      "val   auc = 0.7140846493054878\n",
      "mp = 16, md = 15\n",
      "val   auc = 0.7581922314105011\n",
      "mp = 16, md = 20\n",
      "val   auc = 0.7863991661950193\n",
      "mp = 16, md = 25\n",
      "val   auc = 0.7971713513517779\n",
      "mp = 16, md = 30\n",
      "val   auc = 0.7994887530811315\n",
      "mp = 32, md = 0\n",
      "val   auc = 0.5\n",
      "mp = 32, md = 5\n",
      "val   auc = 0.6776642040602182\n",
      "mp = 32, md = 10\n",
      "val   auc = 0.7136508997232801\n",
      "mp = 32, md = 15\n",
      "val   auc = 0.7554945910576473\n",
      "mp = 32, md = 20\n",
      "val   auc = 0.7813895676662937\n",
      "mp = 32, md = 25\n",
      "val   auc = 0.7927410196457862\n",
      "mp = 32, md = 30\n",
      "val   auc = 0.7966208364921123\n"
     ]
    }
   ],
   "source": [
    "minParent_list = [2**x for x in range(1, 6)]\n",
    "\n",
    "for mp in minParent_list:\n",
    "    for md in range(0, 35, 5):\n",
    "        n_bags = 20\n",
    "        bags = []\n",
    "        for i in range(n_bags):\n",
    "            Xi, Yi = ml.bootstrapData(X_train_svd, Y_train_svd, X_train_svd.shape[0])\n",
    "\n",
    "            tree = ml.dtree.treeClassify(Xi, Yi, minParent=mp, maxDepth=md, nFeatures=5)\n",
    "            bags.append(tree)\n",
    "\n",
    "        model = BaggedTree(bags)\n",
    "        model.classes = np.unique(Y_train_svd)\n",
    "        print(\"mp = {}, md = {}\".format(mp, md))\n",
    "        print(\"val   auc = {}\".format(model.auc(X_val_svd, Y_val_svd)))"
   ]
  },
  {
   "cell_type": "code",
   "execution_count": 9,
   "metadata": {
    "collapsed": true
   },
   "outputs": [],
   "source": [
    "n_bags = 20\n",
    "bags = []\n",
    "for i in range(n_bags):\n",
    "    Xi, Yi = ml.bootstrapData(X_train_svd, Y_train_svd, X_train_svd.shape[0])\n",
    "\n",
    "    tree = ml.dtree.treeClassify(Xi, Yi, minParent=32, maxDepth=30, nFeatures=5)\n",
    "    bags.append(tree)\n",
    "\n",
    "model = BaggedTree(bags)\n",
    "model.classes = np.unique(Y_train_svd)"
   ]
  },
  {
   "cell_type": "code",
   "execution_count": 7,
   "metadata": {},
   "outputs": [
    {
     "name": "stdout",
     "output_type": "stream",
     "text": [
      "train auc = 0.9236229185297911\n",
      "val   auc = 0.7734124671032768\n"
     ]
    }
   ],
   "source": [
    "print(\"train auc = {}\".format(model.auc(X_train, Y_train)))\n",
    "print(\"val   auc = {}\".format(model.auc(X_val, Y_val)))"
   ]
  },
  {
   "cell_type": "code",
   "execution_count": 10,
   "metadata": {
    "collapsed": true
   },
   "outputs": [],
   "source": [
    "#n_bags = 20\n",
    "#bags_ipca = []\n",
    "#for i in range(n_bags):\n",
    "#    Xi, Yi = ml.bootstrapData(X_train_ipca, Y_train_ipca, X_train_ipca.shape[0])\n",
    "#\n",
    "#    tree = ml.dtree.treeClassify(Xi, Yi, minParent=32, maxDepth=25, nFeatures=4)\n",
    "#    bags_ipca.append(tree)\n",
    "#    \n",
    "#model_ipca = BaggedTree(bags_ipca)\n",
    "#model_ipca.classes = np.unique(Y_train_ipca)"
   ]
  },
  {
   "cell_type": "code",
   "execution_count": 11,
   "metadata": {},
   "outputs": [],
   "source": [
    "#print(\"train auc = {}\".format(model_ipca.auc(X_train_ipca, Y_train_ipca)))\n",
    "#print(\"val   auc = {}\".format(model_ipca.auc(X_val_ipca, Y_val_ipca)))"
   ]
  },
  {
   "cell_type": "code",
   "execution_count": 12,
   "metadata": {
    "collapsed": true
   },
   "outputs": [],
   "source": [
    "Yte = np.vstack((np.arange(X_test_svd.shape[0]), model.predictSoft(X_test_svd)[:,1])).T\n",
    "np.savetxt('data/Y_submit_random_forest_5Features_svd.txt', Yte, '%d, %.2f', header='ID,Prob1', comments='', delimiter=',')"
   ]
  }
 ],
 "metadata": {
  "kernelspec": {
   "display_name": "Python 3",
   "language": "python",
   "name": "python3"
  },
  "language_info": {
   "codemirror_mode": {
    "name": "ipython",
    "version": 3
   },
   "file_extension": ".py",
   "mimetype": "text/x-python",
   "name": "python",
   "nbconvert_exporter": "python",
   "pygments_lexer": "ipython3",
   "version": "3.6.2"
  }
 },
 "nbformat": 4,
 "nbformat_minor": 2
}

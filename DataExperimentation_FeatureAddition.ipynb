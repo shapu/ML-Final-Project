{
 "cells": [
  {
   "cell_type": "code",
   "execution_count": 1,
   "metadata": {
    "collapsed": true
   },
   "outputs": [],
   "source": [
    "import numpy as np\n",
    "import matplotlib.pyplot as plt\n",
    "import mltools as ml\n",
    "from sklearn.model_selection import train_test_split\n",
    "from sklearn.neural_network import MLPClassifier\n",
    "from sklearn.preprocessing import StandardScaler\n",
    "from sklearn.metrics import classification_report,confusion_matrix,roc_auc_score\n",
    "from sklearn.linear_model import LogisticRegression\n",
    "from sklearn.feature_selection import RFE\n",
    "from imblearn.combine import SMOTETomek\n",
    "#from sklearn.decomposition import PCA\n",
    "\n",
    "np.random.seed(0);\n",
    "X = np.genfromtxt(\"data/X_train.txt\",delimiter = None)\n",
    "#X = X[:, [8,9,10,11]]\n",
    "Y = np.genfromtxt(\"data/Y_train.txt\",delimiter = None)\n",
    "test_data = np.genfromtxt(\"data/X_test.txt\",delimiter = None)"
   ]
  },
  {
   "cell_type": "code",
   "execution_count": 2,
   "metadata": {},
   "outputs": [],
   "source": [
    "sc1 = StandardScaler()\n",
    "XValues, xVa, YValues, yVa = train_test_split(X,Y,shuffle=True,random_state = 12,test_size = 0.1,stratify = Y)\n",
    "sc1.fit(XValues)\n",
    "XValues = sc1.transform(XValues)\n",
    "xVa = sc1.transform(xVa)\n",
    "smotetomek = SMOTETomek(random_state = 0)\n",
    "XValues, YValues = smotetomek.fit_sample(XValues,YValues)"
   ]
  },
  {
   "cell_type": "code",
   "execution_count": 3,
   "metadata": {},
   "outputs": [
    {
     "name": "stdout",
     "output_type": "stream",
     "text": [
      "0.615180253523\n",
      "[[8623 4519]\n",
      " [2920 3938]]\n"
     ]
    }
   ],
   "source": [
    "model = LogisticRegression()\n",
    "model.fit(XValues,YValues)\n",
    "predictions = model.predict(xVa)\n",
    "print(roc_auc_score(yVa,predictions))\n",
    "print(confusion_matrix(yVa,predictions))"
   ]
  },
  {
   "cell_type": "code",
   "execution_count": 4,
   "metadata": {},
   "outputs": [
    {
     "name": "stdout",
     "output_type": "stream",
     "text": [
      "0.632878659153\n",
      "[[9184 3958]\n",
      " [2970 3888]]\n",
      "(224980, 120)\n"
     ]
    }
   ],
   "source": [
    "##POWER 2 TRANSFORMATION\n",
    "XtR1 = ml.transforms.fpoly(XValues,2)\n",
    "XvR1 = ml.transforms.fpoly(xVa,2)\n",
    "#ipca = IncrementalPCA(n_components = 14)\n",
    "model = LogisticRegression()\n",
    "model.fit(XtR1,YValues)\n",
    "predictions = model.predict(XvR1)\n",
    "print(roc_auc_score(yVa,predictions))\n",
    "print(confusion_matrix(yVa,predictions))\n",
    "print(XtR1.shape)"
   ]
  },
  {
   "cell_type": "code",
   "execution_count": 5,
   "metadata": {},
   "outputs": [
    {
     "name": "stdout",
     "output_type": "stream",
     "text": [
      "0.501868767824\n",
      "[[  235 12907]\n",
      " [   97  6761]]\n",
      "(224980, 2)\n"
     ]
    }
   ],
   "source": [
    "##STUMP TRANSFORMATION PERFORMANCE\n",
    "\n",
    "XtR2 = ml.transforms.fkitchensink(XValues,119,typ='stump')\n",
    "XvR2 = ml.transforms.fkitchensink(xVa,119,typ='stump')\n",
    "#ipca = IncrementalPCA(n_components = 14)\n",
    "XtR2 = np.dot(XtR2[0],XtR2[1].T)\n",
    "XvR2 = np.dot(XvR2[0],XvR2[1].T)\n",
    "model2 = LogisticRegression()\n",
    "model2.fit(XtR2,YValues)\n",
    "predictions2 = model2.predict(XvR2)\n",
    "print(roc_auc_score(yVa,predictions2))\n",
    "print(confusion_matrix(yVa,predictions2))\n",
    "print(XtR2.shape)"
   ]
  },
  {
   "cell_type": "code",
   "execution_count": 6,
   "metadata": {},
   "outputs": [
    {
     "name": "stdout",
     "output_type": "stream",
     "text": [
      "0.573915621363\n",
      "[[7891 5251]\n",
      " [3104 3754]]\n",
      "(224980, 119)\n"
     ]
    }
   ],
   "source": [
    "##SIGMOID TRANSFORMATION PERFORMANCE\n",
    "\n",
    "XtR3 = ml.transforms.fkitchensink(XValues,119,typ='sigmoid')\n",
    "XvR3 = ml.transforms.fkitchensink(xVa,119,typ='sigmoid')\n",
    "XtR3 = XtR3[0]\n",
    "XvR3 = XvR3[0]\n",
    "#ipca = IncrementalPCA(n_components = 14)\n",
    "model3 = LogisticRegression()\n",
    "model3.fit(XtR3,YValues)\n",
    "predictions3 = model3.predict(XvR3)\n",
    "print(roc_auc_score(yVa,predictions3))\n",
    "print(confusion_matrix(yVa,predictions3))\n",
    "print(XtR3.shape)"
   ]
  },
  {
   "cell_type": "code",
   "execution_count": 8,
   "metadata": {},
   "outputs": [
    {
     "name": "stdout",
     "output_type": "stream",
     "text": [
      "0.615180253523\n",
      "[[8623 4519]\n",
      " [2920 3938]]\n",
      "(224980, 105)\n"
     ]
    }
   ],
   "source": [
    "##SUM TRANSFORMATION PERFORMANCE\n",
    "\n",
    "XtR5 = np.zeros(shape=(XValues.shape[0],105))\n",
    "XvR5 = np.zeros(shape=(xVa.shape[0],105))\n",
    "\n",
    "j = 0\n",
    "k = 0\n",
    "for i in range(0,105):\n",
    "    XtR5[:,i] = XValues[:,j] + XValues[:,k]\n",
    "    XvR5[:,i] = xVa[:,j] + xVa[:,k]\n",
    "    if k+1 > 13:\n",
    "        k = j + 1\n",
    "        j = j + 1\n",
    "    else:\n",
    "        k = k+1\n",
    "model5 = LogisticRegression()\n",
    "model5.fit(XtR5,YValues)\n",
    "predictions5 = model5.predict(XvR5)\n",
    "print(roc_auc_score(yVa,predictions5))\n",
    "print(confusion_matrix(yVa,predictions5))\n",
    "print(XtR5.shape)"
   ]
  },
  {
   "cell_type": "code",
   "execution_count": 9,
   "metadata": {},
   "outputs": [
    {
     "name": "stdout",
     "output_type": "stream",
     "text": [
      "0.550433996884\n",
      "[[8460 4682]\n",
      " [3723 3135]]\n",
      "(224980, 91)\n"
     ]
    }
   ],
   "source": [
    "##DIVISION TRANSFORMATION PEFORMANCE\n",
    "\n",
    "XtR7 = np.zeros(shape=(XValues.shape[0],91))\n",
    "XvR7 = np.zeros(shape=(xVa.shape[0],91))\n",
    "\n",
    "j = 0\n",
    "k = 1\n",
    "for i in range(0,91):\n",
    "    XtR7[:,i] = XValues[:,j]/XValues[:,k]\n",
    "    XvR7[:,i] = xVa[:,j]/xVa[:,k]\n",
    "    if k+1 > 13:\n",
    "        k = j + 2\n",
    "        j = j + 1\n",
    "    else:\n",
    "        k = k+1\n",
    "        \n",
    "model7 = LogisticRegression()\n",
    "model7.fit(XtR7,YValues)\n",
    "predictions7 = model7.predict(XvR7)\n",
    "print(roc_auc_score(yVa,predictions7))\n",
    "print(confusion_matrix(yVa,predictions7))\n",
    "print(XtR7.shape)"
   ]
  },
  {
   "cell_type": "code",
   "execution_count": 10,
   "metadata": {},
   "outputs": [
    {
     "name": "stdout",
     "output_type": "stream",
     "text": [
      "0.613840256855\n",
      "[[8743 4399]\n",
      " [3001 3857]]\n",
      "(224980, 91)\n"
     ]
    }
   ],
   "source": [
    "##SUBTRACTION TRANSFORMATION PERFORMANCE\n",
    "\n",
    "XtR8 = np.zeros(shape=(XValues.shape[0],91))\n",
    "XvR8 = np.zeros(shape=(xVa.shape[0],91))\n",
    "\n",
    "j = 0\n",
    "k = 1\n",
    "for i in range(0,91):\n",
    "    XtR8[:,i] = XValues[:,j]-XValues[:,k]\n",
    "    XvR8[:,i] = xVa[:,j]-xVa[:,k]\n",
    "    if k+1 > 13:\n",
    "        k = j + 2\n",
    "        j = j + 1\n",
    "    else:\n",
    "        k = k+1\n",
    "model8 = LogisticRegression()\n",
    "model8.fit(XtR8,YValues)\n",
    "predictions8 = model8.predict(XvR8)\n",
    "print(roc_auc_score(yVa,predictions8))\n",
    "print(confusion_matrix(yVa,predictions8))\n",
    "print(XtR8.shape)"
   ]
  },
  {
   "cell_type": "code",
   "execution_count": 11,
   "metadata": {},
   "outputs": [
    {
     "name": "stdout",
     "output_type": "stream",
     "text": [
      "0.622266044422\n",
      "[[8334 4808]\n",
      " [2672 4186]]\n",
      "(224980, 406)\n"
     ]
    }
   ],
   "source": [
    "##ZSCORE TRANSFORMATION PERFORMANCE\n",
    "\n",
    "from scipy import stats\n",
    "\n",
    "XtR9 = np.zeros(shape=(XValues.shape[0],406))\n",
    "XtR9[:,:14] = stats.zscore(XValues)\n",
    "XvR9 = np.zeros(shape=(xVa.shape[0],406))\n",
    "XvR9[:,:14] = stats.zscore(xVa)\n",
    "\n",
    "j = 0\n",
    "k = 0\n",
    "for i in range(14,119):\n",
    "    XtR9[:,i] = stats.zscore(XValues[:,j]*XValues[:,k])\n",
    "    XvR9[:,i] = stats.zscore(xVa[:,j]*xVa[:,k])\n",
    "    if k+1 > 13:\n",
    "        k = j + 1\n",
    "        j = j + 1\n",
    "    else:\n",
    "        k = k+1\n",
    "        \n",
    "j = 0\n",
    "k = 0\n",
    "for i in range(119,224):\n",
    "    XtR9[:,i] = stats.zscore(XValues[:,j]+XValues[:,k])\n",
    "    XvR9[:,i] = stats.zscore(xVa[:,j]+xVa[:,k])\n",
    "    if k+1 > 13:\n",
    "        k = j + 1\n",
    "        j = j + 1\n",
    "    else:\n",
    "        k = k+1\n",
    "\n",
    "j = 0\n",
    "k = 1\n",
    "for i in range(224,315):\n",
    "    XtR9[:,i] = stats.zscore(XValues[:,j]/XValues[:,k])\n",
    "    XvR9[:,i] = stats.zscore(xVa[:,j]/xVa[:,k])\n",
    "    if k+1 > 13:\n",
    "        k = j + 2\n",
    "        j = j + 1\n",
    "    else:\n",
    "        k = k+1\n",
    "\n",
    "j = 0\n",
    "k = 1\n",
    "for i in range(315,406):\n",
    "    XtR9[:,i] = stats.zscore(XValues[:,j]-XValues[:,k])\n",
    "    XvR9[:,i] = stats.zscore(xVa[:,j]-xVa[:,k])\n",
    "    if k+1 > 13:\n",
    "        k = j + 2\n",
    "        j = j + 1\n",
    "    else:\n",
    "        k = k+1\n",
    "        \n",
    "model9 = LogisticRegression()\n",
    "model9.fit(XtR9,YValues)\n",
    "predictions9 = model9.predict(XvR9)\n",
    "print(roc_auc_score(yVa,predictions9))\n",
    "print(confusion_matrix(yVa,predictions9))\n",
    "print(XtR9.shape)"
   ]
  },
  {
   "cell_type": "code",
   "execution_count": 14,
   "metadata": {},
   "outputs": [
    {
     "name": "stdout",
     "output_type": "stream",
     "text": [
      "0.602447760978\n",
      "[[8319 4823]\n",
      " [2936 3922]]\n",
      "(224980, 14)\n"
     ]
    }
   ],
   "source": [
    "##PROJECTION TRANSFORMATION PERFORMANCE\n",
    "\n",
    "XtR10 = ml.transforms.fkitchensink(XValues,200,typ='linear')\n",
    "XvR10 = ml.transforms.fkitchensink(xVa,200,typ='linear')\n",
    "XtR10 = np.dot(XtR10[0],XtR10[1].T)\n",
    "XvR10 = np.dot(XvR10[0],XvR10[1].T)\n",
    "#ipca = IncrementalPCA(n_components = 14)\n",
    "model10 = LogisticRegression()\n",
    "model10.fit(XtR10,YValues)\n",
    "predictions10 = model10.predict(XvR10)\n",
    "print(roc_auc_score(yVa,predictions10))\n",
    "print(confusion_matrix(yVa,predictions10))\n",
    "print(XtR10.shape)"
   ]
  },
  {
   "cell_type": "code",
   "execution_count": 15,
   "metadata": {},
   "outputs": [
    {
     "name": "stdout",
     "output_type": "stream",
     "text": [
      "0.637678485923\n",
      "[[9268 3874]\n",
      " [2948 3910]]\n",
      "(224980, 406)\n"
     ]
    }
   ],
   "source": [
    "##LOG TRANSFORMATION PERFORMANCE\n",
    "\n",
    "XtR11 = np.zeros(shape=(XValues.shape[0],406))\n",
    "XtR11[:,:14] = np.log1p(np.absolute(XValues))\n",
    "XvR11 = np.zeros(shape=(xVa.shape[0],406))\n",
    "XvR11[:,:14] = np.log1p(np.absolute(xVa))\n",
    "\n",
    "j = 0\n",
    "k = 0\n",
    "for i in range(14,119):\n",
    "    XtR11[:,i] = np.log1p(np.absolute(XValues[:,j]*XValues[:,k]))\n",
    "    XvR11[:,i] = np.log1p(np.absolute(xVa[:,j]*xVa[:,k]))\n",
    "    if k+1 > 13:\n",
    "        k = j + 1\n",
    "        j = j + 1\n",
    "    else:\n",
    "        k = k+1\n",
    "        \n",
    "j = 0\n",
    "k = 0\n",
    "for i in range(119,224):\n",
    "    XtR11[:,i] = np.log1p(np.absolute(XValues[:,j]+XValues[:,k]))\n",
    "    XvR11[:,i] = np.log1p(np.absolute(xVa[:,j]+xVa[:,k]))\n",
    "    if k+1 > 13:\n",
    "        k = j + 1\n",
    "        j = j + 1\n",
    "    else:\n",
    "        k = k+1\n",
    "\n",
    "j = 0\n",
    "k = 1\n",
    "for i in range(224,315):\n",
    "    XtR11[:,i] = np.log1p(np.absolute(XValues[:,j]/XValues[:,k]))\n",
    "    XvR11[:,i] = np.log1p(np.absolute(xVa[:,j]/xVa[:,k]))\n",
    "    if k+1 > 13:\n",
    "        k = j + 2\n",
    "        j = j + 1\n",
    "    else:\n",
    "        k = k+1\n",
    "\n",
    "j = 0\n",
    "k = 1\n",
    "for i in range(315,406):\n",
    "    XtR11[:,i] = np.log1p(np.absolute(XValues[:,j]-XValues[:,k]))\n",
    "    XvR11[:,i] = np.log1p(np.absolute(xVa[:,j]-xVa[:,k]))\n",
    "    if k+1 > 13:\n",
    "        k = j + 2\n",
    "        j = j + 1\n",
    "    else:\n",
    "        k = k+1\n",
    "        \n",
    "model11 = LogisticRegression()\n",
    "model11.fit(XtR11,YValues)\n",
    "predictions11 = model11.predict(XvR11)\n",
    "print(roc_auc_score(yVa,predictions11))\n",
    "print(confusion_matrix(yVa,predictions11))\n",
    "print(XtR11.shape)"
   ]
  },
  {
   "cell_type": "code",
   "execution_count": 22,
   "metadata": {},
   "outputs": [
    {
     "name": "stdout",
     "output_type": "stream",
     "text": [
      "0.620611294828\n",
      "[[8325 4817]\n",
      " [2690 4168]]\n",
      "(224980, 406)\n"
     ]
    }
   ],
   "source": [
    "##BOX-COX TRANSFORMATION PERFORMANCE\n",
    "\n",
    "XtR12 = np.zeros(shape=(XValues.shape[0],406))\n",
    "for i in range(0,14):\n",
    "    XtR12[:,i],_ = stats.boxcox(np.absolute(XValues[:,i]))\n",
    "XvR12 = np.zeros(shape=(xVa.shape[0],406))\n",
    "for i in range(0,14):\n",
    "    XvR12[:,i],_ = stats.boxcox(np.absolute(xVa[:,i]))\n",
    "\n",
    "j = 0\n",
    "k = 0\n",
    "for i in range(14,119):\n",
    "    XtR12[:,i],_ = stats.boxcox(np.absolute(XValues[:,j]*XValues[:,k]))\n",
    "    XvR12[:,i],_ = stats.boxcox(np.absolute(xVa[:,j]*xVa[:,k]))\n",
    "    if k+1 > 13:\n",
    "        k = j + 1\n",
    "        j = j + 1\n",
    "    else:\n",
    "        k = k+1\n",
    "\n",
    "j = 0\n",
    "k = 0\n",
    "for i in range(119,224):\n",
    "    XtR12[:,i],_ = stats.boxcox(np.absolute(XValues[:,j]+XValues[:,k]))\n",
    "    XvR12[:,i],_ = stats.boxcox(np.absolute(xVa[:,j]+xVa[:,k]))\n",
    "    if k+1 > 13:\n",
    "        k = j + 1\n",
    "        j = j + 1\n",
    "    else:\n",
    "        k = k+1\n",
    "\n",
    "j = 0\n",
    "k = 1\n",
    "for i in range(224,315):\n",
    "    XtR12[:,i],_ = stats.boxcox(np.absolute(XValues[:,j]/XValues[:,k]))\n",
    "    XvR12[:,i],_ = stats.boxcox(np.absolute(xVa[:,j]/xVa[:,k]))\n",
    "    if k+1 > 13:\n",
    "        k = j + 2\n",
    "        j = j + 1\n",
    "    else:\n",
    "        k = k+1\n",
    "\n",
    "j = 0\n",
    "k = 1\n",
    "for i in range(315,406):\n",
    "    XtR12[:,i],_ = stats.boxcox(np.absolute(XValues[:,j]-XValues[:,k]))\n",
    "    XvR12[:,i],_ = stats.boxcox(np.absolute(xVa[:,j]-xVa[:,k]))\n",
    "    if k+1 > 13:\n",
    "        k = j + 2\n",
    "        j = j + 1\n",
    "    else:\n",
    "        k = k+1        \n",
    "\n",
    "model12 = LogisticRegression()\n",
    "model12.fit(XtR12,YValues)\n",
    "predictions12 = model12.predict(XvR12)\n",
    "print(roc_auc_score(yVa,predictions12))\n",
    "print(confusion_matrix(yVa,predictions12))\n",
    "print(XtR12.shape)"
   ]
  },
  {
   "cell_type": "code",
   "execution_count": 23,
   "metadata": {
    "collapsed": true
   },
   "outputs": [],
   "source": [
    "#to_test = sc1.transform(test_data)\n",
    "#np.savetxt('data/transformed_test.txt',to_test)\n",
    "#np.savetxt('data/transformed_train.txt',XValues)\n",
    "#np.savetxt('data/transformed_validation.txt',xVa)\n",
    "#np.savetxt('data/train_Y.txt',YValues)\n",
    "#np.savetxt('data/validation_Y.txt',yVa)"
   ]
  },
  {
   "cell_type": "code",
   "execution_count": 29,
   "metadata": {},
   "outputs": [],
   "source": [
    "#Store for Power2\n",
    "#np.savetxt('data/train_power_2.txt',XtR1)\n",
    "#np.savetxt('data/validation_power_2.txt',XvR1)"
   ]
  },
  {
   "cell_type": "code",
   "execution_count": 30,
   "metadata": {
    "collapsed": true
   },
   "outputs": [],
   "source": [
    "#Store for Stump\n",
    "#np.savetxt('data/train_stump.txt',XtR2)\n",
    "#np.savetxt('data/validation_stump.txt',XvR2)"
   ]
  },
  {
   "cell_type": "code",
   "execution_count": 33,
   "metadata": {},
   "outputs": [],
   "source": [
    "#Store for Sigmoid\n",
    "#np.savetxt('data/train_sigmoid.txt',XtR3)\n",
    "#np.savetxt('data/validation_sigmoid.txt',XvR3)"
   ]
  },
  {
   "cell_type": "code",
   "execution_count": 34,
   "metadata": {
    "collapsed": true
   },
   "outputs": [],
   "source": [
    "#Store for Sum\n",
    "#np.savetxt('data/train_sum.txt',XtR5)\n",
    "#np.savetxt('data/validation_sum.txt',XvR5)"
   ]
  },
  {
   "cell_type": "code",
   "execution_count": 35,
   "metadata": {
    "collapsed": true
   },
   "outputs": [],
   "source": [
    "#Store for Division\n",
    "#np.savetxt('data/train_division.txt',XtR7)\n",
    "#np.savetxt('data/validation_division.txt',XvR7)"
   ]
  },
  {
   "cell_type": "code",
   "execution_count": 36,
   "metadata": {
    "collapsed": true
   },
   "outputs": [],
   "source": [
    "#Store for Subtraction\n",
    "#np.savetxt('data/train_subtraction.txt',XtR8)\n",
    "#np.savetxt('data/validation_subtraction.txt',XvR8)"
   ]
  },
  {
   "cell_type": "code",
   "execution_count": 37,
   "metadata": {
    "collapsed": true
   },
   "outputs": [],
   "source": [
    "#Store for ZScore\n",
    "#np.savetxt('data/train_zscore.txt',XtR9)\n",
    "#np.savetxt('data/validation_zscore.txt',XvR9)"
   ]
  },
  {
   "cell_type": "code",
   "execution_count": 38,
   "metadata": {
    "collapsed": true
   },
   "outputs": [],
   "source": [
    "#Store for Projection\n",
    "#np.savetxt('data/train_projection.txt',XtR10)\n",
    "#np.savetxt('data/validation_projection.txt',XvR10)"
   ]
  },
  {
   "cell_type": "code",
   "execution_count": 39,
   "metadata": {
    "collapsed": true
   },
   "outputs": [],
   "source": [
    "#Store for Log \n",
    "#np.savetxt('data/train_log.txt',XtR11)\n",
    "#np.savetxt('data/validation_log.txt',XvR11)"
   ]
  },
  {
   "cell_type": "code",
   "execution_count": 40,
   "metadata": {
    "collapsed": true
   },
   "outputs": [],
   "source": [
    "#Store for Box-Cox\n",
    "#np.savetxt('data/train_box-cox.txt',XtR12)\n",
    "#np.savetxt('data/validation_box-cox.txt',XvR12)"
   ]
  },
  {
   "cell_type": "code",
   "execution_count": 41,
   "metadata": {
    "collapsed": true
   },
   "outputs": [],
   "source": [
    "#positive_data = X[Y==1]\n",
    "#negative_data = X[Y==0]\n",
    "#positive_data = np.random.permutation(positive_data)\n",
    "#negative_data = np.random.permutation(negative_data)"
   ]
  },
  {
   "cell_type": "code",
   "execution_count": 42,
   "metadata": {
    "collapsed": true
   },
   "outputs": [],
   "source": [
    "#positive_subsets = np.array_split(positive_data,4)\n",
    "#positive_subsets"
   ]
  },
  {
   "cell_type": "code",
   "execution_count": 43,
   "metadata": {
    "collapsed": true
   },
   "outputs": [],
   "source": [
    "#negative_subsets = np.array_split(negative_data,7)\n",
    "#negative_subsets"
   ]
  },
  {
   "cell_type": "code",
   "execution_count": 44,
   "metadata": {
    "collapsed": true
   },
   "outputs": [],
   "source": [
    "#print(np.shape(positive_subsets[0]))\n",
    "#print(np.shape(negative_subsets[0]))\n",
    "\n",
    "#for i in range(0,len(positive_subsets)):\n",
    "#    for j in range(0,len(negative_subsets)):\n",
    "#        shape_positive = np.shape(positive_subsets[i])\n",
    "#        positive_data = np.hstack((positive_subsets[i],np.ones(shape=(shape_positive[0],1))))\n",
    "#        negative_subsets[j] = negative_subsets[j][:shape_positive[0]+1,:]\n",
    "#        shape_negative = np.shape(negative_subsets[j])\n",
    "#        negative_data = np.hstack((negative_subsets[j],np.zeros(shape=(shape_negative[0],1))))\n",
    "#        final_data = np.vstack([positive_data,negative_data])\n",
    "#        final_data = np.random.permutation(final_data)\n",
    "#        file_no = 7*i + j\n",
    "#        file_name = 'data_'+str(file_no)+'.txt'\n",
    "#        np.savetxt(\"data/\"+file_name,final_data)"
   ]
  },
  {
   "cell_type": "code",
   "execution_count": 45,
   "metadata": {
    "collapsed": true
   },
   "outputs": [],
   "source": [
    "#print(np.shape(positive_subsets[0]))\n",
    "#print(np.shape(negative_subsets[0]))"
   ]
  },
  {
   "cell_type": "code",
   "execution_count": 46,
   "metadata": {
    "collapsed": true
   },
   "outputs": [],
   "source": [
    "#model = MLPClassifier(activation='relu',solver='lbfgs',hidden_layer_sizes=(350,350),early_stopping=True,batch_size=1)\n",
    "#sc = StandardScaler()\n",
    "#data_file_no = \"data_\"+str(0)+\".txt\"\n",
    "#data = np.genfromtxt(\"data/\"+data_file_no,delimiter = None)\n",
    "#X_train = data[:,:-1]\n",
    "#y_train = data[:,-1]\n",
    "#sc.fit(X_train)\n",
    "#X_train = sc.transform(X_train)\n",
    "#X_test = sc.transform(X)\n",
    "#model.fit(X_train,y_train)\n",
    "#predictions = model.predict(X_test)\n",
    "#np.savetxt(\"data/prelim_confi_predictions.txt\",predictions)\n",
    "#print(roc_auc_score(Y,predictions))"
   ]
  },
  {
   "cell_type": "code",
   "execution_count": 47,
   "metadata": {
    "collapsed": true
   },
   "outputs": [],
   "source": [
    "#print(classification_report(Y,predictions))\n",
    "#print(confusion_matrix(Y,predictions))"
   ]
  }
 ],
 "metadata": {
  "kernelspec": {
   "display_name": "Python 3",
   "language": "python",
   "name": "python3"
  },
  "language_info": {
   "codemirror_mode": {
    "name": "ipython",
    "version": 3
   },
   "file_extension": ".py",
   "mimetype": "text/x-python",
   "name": "python",
   "nbconvert_exporter": "python",
   "pygments_lexer": "ipython3",
   "version": "3.6.2"
  }
 },
 "nbformat": 4,
 "nbformat_minor": 2
}

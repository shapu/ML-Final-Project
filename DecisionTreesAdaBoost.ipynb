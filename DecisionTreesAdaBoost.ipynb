{
 "cells": [
  {
   "cell_type": "code",
   "execution_count": 1,
   "metadata": {
    "collapsed": true
   },
   "outputs": [],
   "source": [
    "import numpy as np\n",
    "import matplotlib.pyplot as plt\n",
    "import mltools as ml\n",
    "from sklearn.model_selection import train_test_split\n",
    "from sklearn.preprocessing import StandardScaler\n",
    "from sklearn.metrics import classification_report,confusion_matrix,roc_auc_score\n",
    "from sklearn.tree import DecisionTreeClassifier\n",
    "from sklearn.externals import joblib\n"
   ]
  },
  {
   "cell_type": "code",
   "execution_count": 87,
   "metadata": {},
   "outputs": [],
   "source": [
    "#train_data = np.genfromtxt('data/transformed_train.txt',delimiter = None)\n",
    "#train_Y = np.genfromtxt('data/train_Y.txt',delimiter = None)\n",
    "from imblearn.combine import SMOTETomek\n",
    "\n",
    "sc1 = StandardScaler()\n",
    "X = np.genfromtxt(\"data/X_train.txt\",delimiter=None)\n",
    "Y = np.genfromtxt(\"data/Y_train.txt\",delimiter=None)\n",
    "train_data = X\n",
    "train_Y = Y\n",
    "smotetomek = SMOTETomek(random_state = 0)\n",
    "sc1.fit(train_data)\n",
    "train_data = sc1.transform(train_data)\n",
    "train_data,train_Y = smotetomek.fit_sample(train_data,train_Y)"
   ]
  },
  {
   "cell_type": "code",
   "execution_count": 88,
   "metadata": {},
   "outputs": [],
   "source": [
    "#Adaboost\n",
    "alpha = np.zeros(shape=(train_data.shape[1],1))\n",
    "weights_models = np.ones(shape=(train_data.shape[0],))\n",
    "#predictions_val = np.zeros(shape=(val_data.shape[0],val_data.shape[1]))\n",
    "for i in range(0,train_data.shape[1]):\n",
    "    model = DecisionTreeClassifier()\n",
    "    model.fit(train_data[:,i].reshape(-1,1),train_Y,np.atleast_1d(weights_models))\n",
    "    joblib.dump(model,'data/decision_model_'+str(i)+'.txt')\n",
    "    predictions = model.predict(train_data[:,i].reshape(-1,1))\n",
    "#    predictions_val[:,i] = model.predict(val_data[:,i].reshape(-1,1))\n",
    "    error = np.dot(weights_models,train_Y!=predictions)\n",
    "    alpha[i] = 0.5*np.log(np.absolute((1-error)/error))\n",
    "    weights_models *= np.exp(-alpha[i]*train_Y*predictions)\n",
    "    weights_models /= weights_models.sum()"
   ]
  },
  {
   "cell_type": "code",
   "execution_count": 92,
   "metadata": {},
   "outputs": [],
   "source": [
    "test_data = np.genfromtxt(\"data/X_test.txt\",delimiter = None)\n",
    "test_data = sc1.transform(test_data)\n",
    "#test_data = np.genfromtxt('data/transformed_test.txt',delimiter = None)\n",
    "test_predictions = np.zeros(shape=(test_data.shape[0],test_data.shape[1]))\n",
    "for i in range(0,14):\n",
    "    model = joblib.load('data/decision_model_'+str(i)+'.txt')\n",
    "    test_predictions[:,i] = model.predict_proba(test_data[:,i].reshape(-1,1))[:,1]\n",
    "\n",
    "final_test_predictions = np.dot(test_predictions,alpha)\n",
    "final_test_predictions /= sum(alpha)"
   ]
  },
  {
   "cell_type": "code",
   "execution_count": 93,
   "metadata": {},
   "outputs": [
    {
     "name": "stdout",
     "output_type": "stream",
     "text": [
      "10414\n"
     ]
    }
   ],
   "source": [
    "print(np.count_nonzero(final_test_predictions>0.5))"
   ]
  },
  {
   "cell_type": "code",
   "execution_count": 94,
   "metadata": {},
   "outputs": [],
   "source": [
    "Yte = np.vstack((np.arange(test_data.shape[0]), final_test_predictions.T)).T\n",
    "np.savetxt('data/Y_submit.txt', Yte, '%d, %.2f', header='ID,Prob1', comments='', delimiter=',')"
   ]
  }
 ],
 "metadata": {
  "kernelspec": {
   "display_name": "Python 3",
   "language": "python",
   "name": "python3"
  },
  "language_info": {
   "codemirror_mode": {
    "name": "ipython",
    "version": 3
   },
   "file_extension": ".py",
   "mimetype": "text/x-python",
   "name": "python",
   "nbconvert_exporter": "python",
   "pygments_lexer": "ipython3",
   "version": "3.6.2"
  }
 },
 "nbformat": 4,
 "nbformat_minor": 2
}

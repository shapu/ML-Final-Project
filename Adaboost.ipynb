{
 "cells": [
  {
   "cell_type": "code",
   "execution_count": 1,
   "metadata": {
    "collapsed": true
   },
   "outputs": [],
   "source": [
    "def negative_class_edit(Y):\n",
    "    Ytemp = Y\n",
    "    for i,cl in enumerate(Ytemp):\n",
    "        if cl == 0:\n",
    "           Ytemp[i] = -1\n",
    "    return Ytemp"
   ]
  },
  {
   "cell_type": "code",
   "execution_count": 2,
   "metadata": {
    "collapsed": true
   },
   "outputs": [],
   "source": [
    "import numpy as np\n",
    "import matplotlib.pyplot as plt\n",
    "import mltools as ml\n",
    "from sklearn.model_selection import train_test_split\n",
    "from sklearn.preprocessing import StandardScaler\n",
    "from sklearn.metrics import classification_report,confusion_matrix,roc_auc_score\n",
    "from imblearn.combine import SMOTETomek\n",
    "from sklearn.linear_model import LogisticRegression\n",
    "from sklearn.externals import joblib"
   ]
  },
  {
   "cell_type": "code",
   "execution_count": 3,
   "metadata": {
    "collapsed": true
   },
   "outputs": [],
   "source": [
    "#change path if your notebook is not in the same directory as your data files are\n",
    "#this trains on the entire data set.\n",
    "sc1 = StandardScaler()\n",
    "X = np.genfromtxt(\"X_train.txt\",delimiter=None)\n",
    "Y = np.genfromtxt(\"Y_train.txt\",delimiter=None)\n",
    "train_data = X\n",
    "train_Y = negative_class_edit(Y)\n",
    "smotetomek = SMOTETomek(random_state = 0)\n",
    "sc1.fit(train_data)\n",
    "train_data = sc1.transform(train_data)\n",
    "train_data,train_Y = smotetomek.fit_sample(train_data,train_Y)"
   ]
  },
  {
   "cell_type": "code",
   "execution_count": 4,
   "metadata": {
    "collapsed": true
   },
   "outputs": [],
   "source": [
    "Xtest = np.genfromtxt(\"X_test.txt\",delimiter=None)\n",
    "Xtest = sc1.transform(Xtest)"
   ]
  },
  {
   "cell_type": "code",
   "execution_count": 14,
   "metadata": {},
   "outputs": [
    {
     "name": "stdout",
     "output_type": "stream",
     "text": [
      "0\n",
      "1\n",
      "2\n",
      "3\n",
      "4\n",
      "5\n",
      "6\n",
      "7\n",
      "8\n",
      "9\n",
      "10\n",
      "11\n",
      "12\n",
      "13\n"
     ]
    }
   ],
   "source": [
    "#change number of boosts if you want more or less learners\n",
    "nboosts = 14\n",
    "learner = [None] * nboosts\n",
    "mTest = train_data.shape[0]\n",
    "alpha = [1] * nboosts\n",
    "weights = [1.0]*mTest\n",
    "for i in range(len(weights)):\n",
    "    weights[i] /= mTest\n",
    "for i in range(nboosts):\n",
    "    #print i\n",
    "    learner[i] = LogisticRegression()\n",
    "    learner[i].fit(train_data,train_Y,sample_weight = weights)\n",
    "    Yhat = learner[i].predict(train_data)\n",
    "    e = np.dot(weights,train_Y != Yhat)\n",
    "    alpha[i] = .5 * np.log((1.0-e)/e)\n",
    "    weights *=np.exp(-alpha[i] * train_Y * Yhat)\n",
    "    weights /= weights.sum()\n",
    "\n",
    "    \n",
    "#np.savetxt(\"alpha.txt\", alpha)\n",
    "    \n",
    "    \n",
    "    "
   ]
  },
  {
   "cell_type": "code",
   "execution_count": 16,
   "metadata": {
    "collapsed": true
   },
   "outputs": [],
   "source": [
    "#np.savetxt(\"alpha.txt\", alpha)"
   ]
  },
  {
   "cell_type": "code",
   "execution_count": 17,
   "metadata": {
    "collapsed": true
   },
   "outputs": [],
   "source": [
    "mTest = Xtest.shape[0]\n",
    "predict = np.zeros((mTest,))\n",
    "test_probs = np.zeros((mTest,))\n",
    "for i in range(nboosts):\n",
    "    predict += alpha[i] * learner[i].predict(Xtest)\n",
    "    \n",
    "predict = np.sign(predict)\n"
   ]
  },
  {
   "cell_type": "code",
   "execution_count": 18,
   "metadata": {},
   "outputs": [
    {
     "name": "stdout",
     "output_type": "stream",
     "text": [
      "(200000L, 2L)\n"
     ]
    }
   ],
   "source": [
    "\n",
    "def predict_soft(X):\n",
    "    classes = 2\n",
    "    prob = np.zeros((X.shape[0],2))\n",
    "    for i in range(len(learner)):\n",
    "        prob += alpha[i] * learner[i].predict_proba(X)\n",
    "    prob /= sum(alpha)\n",
    "    prob = np.exp(prob)\n",
    "    normalizer = prob.sum(axis=1)[:, np.newaxis]\n",
    "    normalizer[normalizer == 0.0] = 1.0\n",
    "    prob /= normalizer\n",
    "    return prob\n",
    "\n",
    "probs = predict_soft(Xtest)\n",
    "    \n",
    "print probs.shape\n",
    "    "
   ]
  },
  {
   "cell_type": "code",
   "execution_count": 19,
   "metadata": {},
   "outputs": [
    {
     "name": "stdout",
     "output_type": "stream",
     "text": [
      "[[ 0.49974657  0.50025343]\n",
      " [ 0.51210432  0.48789568]\n",
      " [ 0.48647189  0.51352811]\n",
      " ..., \n",
      " [ 0.5111964   0.4888036 ]\n",
      " [ 0.49252147  0.50747853]\n",
      " [ 0.51014152  0.48985848]]\n"
     ]
    }
   ],
   "source": [
    "print predict_soft(train_data)"
   ]
  },
  {
   "cell_type": "code",
   "execution_count": 15,
   "metadata": {},
   "outputs": [
    {
     "name": "stdout",
     "output_type": "stream",
     "text": [
      "[[  0.00000000e+00   4.95465404e-01]\n",
      " [  1.00000000e+00   5.02252771e-01]\n",
      " [  2.00000000e+00   4.85956608e-01]\n",
      " ..., \n",
      " [  1.99997000e+05   4.84115349e-01]\n",
      " [  1.99998000e+05   4.87850570e-01]\n",
      " [  1.99999000e+05   4.84628841e-01]]\n"
     ]
    }
   ],
   "source": [
    "Yte = np.vstack((np.arange(Xtest.shape[0]), probs[:,1])).T\n",
    "print Yte\n",
    "np.savetxt('Y_submit.txt', Yte, '%d, %.2f', header='ID,Prob1', comments='', delimiter=',')"
   ]
  },
  {
   "cell_type": "code",
   "execution_count": null,
   "metadata": {
    "collapsed": true
   },
   "outputs": [],
   "source": []
  }
 ],
 "metadata": {
  "kernelspec": {
   "display_name": "Python 2",
   "language": "python",
   "name": "python2"
  },
  "language_info": {
   "codemirror_mode": {
    "name": "ipython",
    "version": 2
   },
   "file_extension": ".py",
   "mimetype": "text/x-python",
   "name": "python",
   "nbconvert_exporter": "python",
   "pygments_lexer": "ipython2",
   "version": "2.7.13"
  }
 },
 "nbformat": 4,
 "nbformat_minor": 2
}

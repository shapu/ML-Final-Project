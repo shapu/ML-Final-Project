{
 "cells": [
  {
   "cell_type": "code",
   "execution_count": 1,
   "metadata": {
    "collapsed": true
   },
   "outputs": [],
   "source": [
    "def negative_class_edit(Y):\n",
    "    Ytemp = Y\n",
    "    for i,cl in enumerate(Ytemp):\n",
    "        if cl == 0:\n",
    "           Ytemp[i] = -1\n",
    "    return Ytemp"
   ]
  },
  {
   "cell_type": "code",
   "execution_count": 23,
   "metadata": {
    "collapsed": true
   },
   "outputs": [],
   "source": [
    "import numpy as np\n",
    "import matplotlib.pyplot as plot\n",
    "import mltools as ml\n",
    "from sklearn.model_selection import train_test_split\n",
    "from sklearn.preprocessing import StandardScaler\n",
    "from sklearn.metrics import classification_report,confusion_matrix,roc_auc_score\n",
    "from imblearn.combine import SMOTETomek\n",
    "from sklearn.linear_model import LogisticRegression,Perceptron\n",
    "from sklearn.externals import joblib\n",
    "from sklearn.tree import DecisionTreeClassifier"
   ]
  },
  {
   "cell_type": "code",
   "execution_count": 3,
   "metadata": {
    "collapsed": true
   },
   "outputs": [],
   "source": [
    "#change path if your notebook is not in the same directory as your data files are\n",
    "#this trains on the entire data set.\n",
    "\n",
    "X = np.genfromtxt(\"Training/training_data_IPCA.txt\",delimiter=None)\n",
    "Y = np.genfromtxt(\"Training/train_Y.txt\",delimiter=None)\n",
    "train_data = X\n",
    "train_Y = negative_class_edit(Y)\n"
   ]
  },
  {
   "cell_type": "code",
   "execution_count": 4,
   "metadata": {
    "collapsed": true
   },
   "outputs": [],
   "source": [
    "Xtest = np.genfromtxt(\"Test/test_data_IPCA.txt\",delimiter=None)\n",
    "Validation_X = np.genfromtxt(\"Validation/validation_data_IPCA.txt\",delimiter=None)\n",
    "Validation_Y = np.genfromtxt(\"Validation/validation_Y.txt\")\n",
    "Validation_Y = negative_class_edit(Validation_Y)"
   ]
  },
  {
   "cell_type": "code",
   "execution_count": 35,
   "metadata": {},
   "outputs": [],
   "source": [
    "#change number of boosts if you want more or less learners\n",
    "class AdaBoost:\n",
    "      def __init__(self,nboosts):\n",
    "          self.nboosts = nboosts\n",
    "          self.learner = [None] * nboosts\n",
    "          self.mTest = train_data.shape[0]\n",
    "          #print train_data.shape\n",
    "          self.alpha = [1] * nboosts\n",
    "          self.weights = [1.0]*self.mTest\n",
    "          for i in range(len(self.weights)):\n",
    "              self.weights[i] /= self.mTest\n",
    "          for i in range(nboosts):\n",
    "              print i\n",
    "              self.learner[i] = DecisionTreeClassifier(criterion='entropy',min_samples_split= 30)\n",
    "              self.learner[i].fit(train_data,train_Y,sample_weight = self.weights)\n",
    "              Yhat = self.learner[i].predict(train_data)\n",
    "              e = np.dot(self.weights,train_Y != Yhat)\n",
    "              self.alpha[i] = .5 * np.log((1.0-e)/e)\n",
    "              self.weights *=np.exp(-self.alpha[i] * train_Y * Yhat)\n",
    "              self.weights /= self.weights.sum()\n",
    "      def predictions(self,X,learners):\n",
    "        mTests = X.shape[0]\n",
    "        if (self.nboosts < learners):\n",
    "            print 'err'\n",
    "            return\n",
    "        predict = np.zeros((mTests,))\n",
    "        for i in range(learners):\n",
    "            predict += self.alpha[i] * self.learner[i].predict(X)\n",
    "        predict = np.sign(predict)\n",
    "        return predict\n",
    "      def predict_soft(self,X,learners):\n",
    "            #learners cannot be greater than self.mtest\n",
    "        if self.nboosts < learners:\n",
    "           print 'err'\n",
    "           return\n",
    "        classes = 2\n",
    "        prob = np.zeros((X.shape[0],2))\n",
    "        for i in range(learners):\n",
    "            prob += self.alpha[i] * self.learner[i].predict_proba(X)\n",
    "        prob /= sum(self.alpha)\n",
    "        prob = np.exp(prob)\n",
    "        normalizer = prob.sum(axis=1)[:, np.newaxis]\n",
    "        normalizer[normalizer == 0.0] = 1.0\n",
    "        prob /= normalizer\n",
    "        return prob\n",
    "    \n",
    "    \n",
    "    "
   ]
  },
  {
   "cell_type": "code",
   "execution_count": 20,
   "metadata": {
    "collapsed": true
   },
   "outputs": [],
   "source": [
    "#np.savetxt(\"alpha.txt\", alpha)\n"
   ]
  },
  {
   "cell_type": "code",
   "execution_count": 36,
   "metadata": {
    "scrolled": true
   },
   "outputs": [],
   "source": [
    "booster = AdaBoost(20)\n",
    "\n"
   ]
  },
  {
   "cell_type": "code",
   "execution_count": 39,
   "metadata": {},
   "outputs": [
    {
     "name": "stdout",
     "output_type": "stream",
     "text": [
      "1\n",
      "2\n",
      "3\n",
      "4\n",
      "5\n",
      "6\n",
      "7\n",
      "8\n",
      "9\n",
      "10\n",
      "11\n",
      "12\n",
      "13\n",
      "14\n",
      "15\n",
      "16\n",
      "17\n",
      "18\n",
      "19\n",
      "20\n"
     ]
    }
   ],
   "source": [
    "\n",
    "training_auc = []\n",
    "validation_auc = []\n",
    "for i in range(1,21):\n",
    "    print i\n",
    "    training_predictions = booster.predictions(train_data,i)\n",
    "    validation_predictions = booster.predictions(Validation_X,i)\n",
    "    training_auc.append(roc_auc_score(train_Y,training_predictions))\n",
    "    validation_auc.append(roc_auc_score(Validation_Y,validation_predictions))\n",
    "\n",
    "    \n",
    "    "
   ]
  },
  {
   "cell_type": "code",
   "execution_count": 38,
   "metadata": {},
   "outputs": [
    {
     "data": {
      "image/png": "[encoded data removed]",
      "text/plain": [
       "<matplotlib.figure.Figure at 0x1f9126d8>"
      ]
     },
     "metadata": {},
     "output_type": "display_data"
    }
   ],
   "source": [
    "plot.plot(range(1,20), training_auc, color = 'red')\n",
    "plot.plot(range(1,20),validation_auc,color='green')\n",
    "\n",
    "plot.show()\n",
    "    "
   ]
  },
  {
   "cell_type": "code",
   "execution_count": 19,
   "metadata": {},
   "outputs": [
    {
     "name": "stdout",
     "output_type": "stream",
     "text": [
      "[[ 0.49974657  0.50025343]\n",
      " [ 0.51210432  0.48789568]\n",
      " [ 0.48647189  0.51352811]\n",
      " ..., \n",
      " [ 0.5111964   0.4888036 ]\n",
      " [ 0.49252147  0.50747853]\n",
      " [ 0.51014152  0.48985848]]\n"
     ]
    }
   ],
   "source": [
    "#predict_soft(train_data)"
   ]
  },
  {
   "cell_type": "code",
   "execution_count": 40,
   "metadata": {},
   "outputs": [],
   "source": [
    "Yte = np.vstack((np.arange(Xtest.shape[0]), booster.predict_soft(Xtest,booster.nboosts)[:,1])).T\n",
    "#print Yte\n",
    "np.savetxt('Y_submit.txt', Yte, '%d, %.2f', header='ID,Prob1', comments='', delimiter=',')"
   ]
  },
  {
   "cell_type": "code",
   "execution_count": null,
   "metadata": {
    "collapsed": true
   },
   "outputs": [],
   "source": []
  }
 ],
 "metadata": {
  "kernelspec": {
   "display_name": "Python 2",
   "language": "python",
   "name": "python2"
  },
  "language_info": {
   "codemirror_mode": {
    "name": "ipython",
    "version": 2
   },
   "file_extension": ".py",
   "mimetype": "text/x-python",
   "name": "python",
   "nbconvert_exporter": "python",
   "pygments_lexer": "ipython2",
   "version": "2.7.13"
  }
 },
 "nbformat": 4,
 "nbformat_minor": 2
}
